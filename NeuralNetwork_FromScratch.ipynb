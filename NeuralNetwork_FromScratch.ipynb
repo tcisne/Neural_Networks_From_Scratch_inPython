{
 "cells": [
  {
   "cell_type": "code",
   "execution_count": 1,
   "id": "d8e092bc",
   "metadata": {},
   "outputs": [
    {
     "name": "stdout",
     "output_type": "stream",
     "text": [
      "2.3\n"
     ]
    }
   ],
   "source": [
    "inputs = [1, 2, 3, ]\n",
    "weights = [0.2, 0.8, -0.5]\n",
    "bias = 2.0\n",
    "\n",
    "outputs = (inputs[0] * weights[0] + inputs[1] * weights[1] +inputs[2] * weights[2] + bias)\n",
    "\n",
    "print(outputs)"
   ]
  },
  {
   "cell_type": "markdown",
   "id": "472c4885",
   "metadata": {},
   "source": [
    "Coding second neuron: 4 inputs"
   ]
  },
  {
   "cell_type": "code",
   "execution_count": 2,
   "id": "35a7ad93",
   "metadata": {},
   "outputs": [
    {
     "name": "stdout",
     "output_type": "stream",
     "text": [
      "4.8\n"
     ]
    }
   ],
   "source": [
    "inputs = [1.0, 2.0, 3.0, 2.5]\n",
    "weights = [0.2, 0.8, -0.5, 1.0]\n",
    "bias = 2.0\n",
    "outputs = (inputs[0] * weights[0] + inputs[1] \n",
    "           * weights[1] +inputs[2] \n",
    "           * weights[2] + inputs[3] \n",
    "           * weights[3] + bias) \n",
    "print(outputs)"
   ]
  },
  {
   "cell_type": "markdown",
   "id": "f12a633b",
   "metadata": {},
   "source": [
    "4) Layer of Neurons"
   ]
  },
  {
   "cell_type": "code",
   "execution_count": 2,
   "id": "50f1a77e",
   "metadata": {},
   "outputs": [
    {
     "name": "stdout",
     "output_type": "stream",
     "text": [
      "[4.8, 1.21, 2.385]\n"
     ]
    }
   ],
   "source": [
    "inputs = [1, 2, 3, 2.5]\n",
    "weights = [[0.2, 0.8, -0.5, 1.0],\n",
    "           [0.5, -0.91, 0.26, -0.5],\n",
    "           [-0.26, -0.27, 0.17, 0.87]]\n",
    "\n",
    "weights1 = weights[0] #List of weights associated with the 1st neuron: w11, w12, w13, w14\n",
    "weights2 = weights[1] #List of weights associated with the 2nd neuron: w21, w22, w23, w24\n",
    "weights3 = weights[2] #List of weights associated with the 3rd neuron: w31, w32, w33, w34\n",
    "\n",
    "biases = [2, 3, 0.5]\n",
    "\n",
    "bias1 = 2 #Bias associated with the first neuron\n",
    "bias2 = 3 #Bias associated with the second neuron\n",
    "bias3 = 0.5 #Bias associated with the third neuron\n",
    "\n",
    "outputs = [\n",
    "    # Neuron 1:\n",
    "    inputs[0]*weights1[0] +\n",
    "    inputs[1]*weights1[1] +\n",
    "    inputs[2]*weights1[2] +\n",
    "    inputs[3]*weights1[3] + bias1,\n",
    "    # Neuron 2:\n",
    "    inputs[0]*weights2[0] +\n",
    "    inputs[1]*weights2[1] +\n",
    "    inputs[2]*weights2[2] +\n",
    "    inputs[3]*weights2[3] + bias2,\n",
    "    # Neuron 3:\n",
    "    inputs[0]*weights3[0] +\n",
    "    inputs[1]*weights3[1] +\n",
    "    inputs[2]*weights3[2] +\n",
    "    inputs[3]*weights3[3] + bias3\n",
    "]\n",
    "\n",
    "print(outputs)\n"
   ]
  },
  {
   "cell_type": "markdown",
   "id": "6e34d0c8",
   "metadata": {},
   "source": [
    "USING LOOPS FOR BETTER AND EASIER CODING"
   ]
  },
  {
   "cell_type": "code",
   "execution_count": 5,
   "id": "a7448778",
   "metadata": {},
   "outputs": [
    {
     "name": "stdout",
     "output_type": "stream",
     "text": [
      "[4.8]\n",
      "[4.8, 1.21]\n",
      "[4.8, 1.21, 2.385]\n"
     ]
    }
   ],
   "source": [
    "inputs = [1, 2, 3, 2.5]\n",
    "\n",
    "##LIST OF WEIGHTS\n",
    "weights = [[0.2, 0.8, -0.5, 1.0],\n",
    "           [0.5, -0.91, 0.26, -0.5],\n",
    "           [-0.26, -0.27, 0.17, 0.87]]\n",
    "\n",
    "## LIST OF BIASES\n",
    "biases = [2, 3, 0.5]\n",
    "\n",
    "# Create empty layer outputs list to store the outputs of each neuron\n",
    "layer_outputs = []\n",
    "\n",
    "# For each neuron\n",
    "for neuron_weights, neuron_bias in zip(weights, biases):\n",
    "    # Zeroed output of given neruon\n",
    "    neuron_output = 0\n",
    "    # For each input and weight to the neuron\n",
    "    for n_input, weight in zip(inputs, neuron_weights):\n",
    "        # Multiply thsi input by associated weight\n",
    "        # and add to the neuron's output variable\n",
    "        neuron_output += n_input*weight #e.g. w11*x1 + w12*x2 + w13*x3 + w14*x4\n",
    "        # Add bias\n",
    "    neuron_output += neuron_bias # e.g. + b1\n",
    "    # Put neuron's result to the layer's output list\n",
    "    layer_outputs.append(neuron_output)\n",
    "\n",
    "    print(layer_outputs)\n",
    "\n"
   ]
  },
  {
   "cell_type": "markdown",
   "id": "2b7e355f",
   "metadata": {},
   "source": [
    "USING NUMPY"
   ]
  },
  {
   "cell_type": "markdown",
   "id": "692fbeba",
   "metadata": {},
   "source": [
    "SINGLE NEURON USING NUMPY"
   ]
  },
  {
   "cell_type": "code",
   "execution_count": 7,
   "id": "85573148",
   "metadata": {},
   "outputs": [
    {
     "name": "stdout",
     "output_type": "stream",
     "text": [
      "4.8\n"
     ]
    }
   ],
   "source": [
    "import numpy as np\n",
    "# Using numpy for matrix operations\n",
    "inputs = [1, 2, 3, 2.5]\n",
    "weights = [0.2, 0.8, -0.5, 1.0]\n",
    "bias = 2.0\n",
    "outputs = np.dot(weights, inputs) + bias # dot product of weights and inputs + bias\n",
    "\n",
    "print(outputs) "
   ]
  },
  {
   "cell_type": "markdown",
   "id": "019dcdb8",
   "metadata": {},
   "source": [
    "LAYER OF NEURONS USING NUMPY"
   ]
  },
  {
   "cell_type": "code",
   "execution_count": 8,
   "id": "b2cd6c61",
   "metadata": {},
   "outputs": [],
   "source": [
    "## In plain Python, we wrote this as a list of lists. With NumPy, this will be a 2-dimensional array, which we'll call a matrix."
   ]
  },
  {
   "cell_type": "code",
   "execution_count": 11,
   "id": "4b77c364",
   "metadata": {},
   "outputs": [
    {
     "name": "stdout",
     "output_type": "stream",
     "text": [
      "[4.8   1.21  2.385]\n"
     ]
    }
   ],
   "source": [
    "inputs = [1.0, 2.0, 3.0, 2.5]\n",
    "weights = [\n",
    "    [0.2, 0.8, -0.5, 1.0],\n",
    "    [0.5, -0.91, 0.26, -0.5],\n",
    "    [-0.26, -0.27, 0.17, 0.87]\n",
    "]\n",
    "biases = [2.0, 3.0, 0.5]\n",
    "\n",
    "# A dot product of a matrix and a vctor results in a list of dot products.\n",
    "# The np.dot() method treats the matrix as a list of vectors and performs a dot product of each of those vectors with the other vector\n",
    "\n",
    "layer_outputs = np.dot(weights, inputs) + biases\n",
    "print(layer_outputs)\n"
   ]
  },
  {
   "cell_type": "markdown",
   "id": "85848555",
   "metadata": {},
   "source": [
    "LAYER OF NEURONS AND BATCH OF DATA USING NUMPY"
   ]
  },
  {
   "cell_type": "markdown",
   "id": "42d8b07a",
   "metadata": {},
   "source": [
    "NEED TO TAKE TRANSPOSE OF WEIGHT MATRIX"
   ]
  },
  {
   "cell_type": "code",
   "execution_count": 12,
   "id": "def1104f",
   "metadata": {},
   "outputs": [
    {
     "name": "stdout",
     "output_type": "stream",
     "text": [
      "[[ 4.8    1.21   2.385]\n",
      " [ 8.9   -1.81   0.2  ]\n",
      " [ 1.41   1.051  0.026]]\n"
     ]
    }
   ],
   "source": [
    "inputs = [\n",
    "    [1.0, 2.0,3.0, 2.5],\n",
    "    [2.0, 5.0, -1.0, 2.0],\n",
    "    [-1.5, 2.7, 3.3, -0.8]\n",
    "]\n",
    "weights = [\n",
    "    [0.2, 0.8, -0.5, 1.0],\n",
    "    [0.5, -0.91, 0.26, -0.5],\n",
    "    [-0.26, -0.27, 0.17, 0.87]\n",
    "]\n",
    "biases = [2.0, 3.0, 0.5]\n",
    "\n",
    "# NOTE: WE CAN'T TRANSPOSE LISTS IN PYTHON, SO WE HAVE TO CONVERT THE WEIGHTS MATRIX INTO AN ARRAY FIRST\n",
    "outputs = np.dot(inputs, np.array(weights).T) + biases\n",
    "print(outputs)\n"
   ]
  },
  {
   "cell_type": "markdown",
   "id": "811dd82f",
   "metadata": {},
   "source": [
    "2 LAYERS AND BATCH OF DATA USING NUMPY"
   ]
  },
  {
   "cell_type": "code",
   "execution_count": 3,
   "id": "0e7e6be0",
   "metadata": {},
   "outputs": [
    {
     "name": "stdout",
     "output_type": "stream",
     "text": [
      "[[ 0.5031  -1.04185 -2.03875]\n",
      " [ 0.2434  -2.7332  -5.7633 ]\n",
      " [-0.99314  1.41254 -0.35655]]\n",
      "[[1.786515  3.1695585 0.303906 ]\n",
      " [2.24377   3.610454  0.194919 ]\n",
      " [2.609679  0.6253156 0.3162171]]\n"
     ]
    }
   ],
   "source": [
    "import numpy as np\n",
    "\n",
    "inputs = [[1, 2, 3, 2.5],\n",
    "          [2, 5, -1, 2], \n",
    "          [-1.5, 2.7, 3.3, -0.8]]\n",
    "\n",
    "weights = [[0.2, 0.8, -0.5, 1.0],\n",
    "           [0.5, -0.91, 0.26, -0.5],\n",
    "           [-0.26, -0.27, 0.17, 0.87]]\n",
    "\n",
    "biases = [2, 3, 0.5]\n",
    "weights2 = [[0.1, -0.14, 0.5],\n",
    "            [-0.5, 0.12, -0.33],\n",
    "            [-0.44, 0.73, -0.13]]\n",
    "biases2 = [-1, 2, -0.5]\n",
    "weights3 = [[0.2, 0.8, -0.5],\n",
    "            [0.5, -0.91, 0.26],\n",
    "            [-0.26, -0.27, 0.17]]\n",
    "biases3 = [1.5, 2.5, 0.5]\n",
    "\n",
    "# Convert lists to numpy arrays\n",
    "inputs_array = np.array(inputs)\n",
    "weights_array = np.array(weights)\n",
    "biases_array = np.array(biases)\n",
    "weights2_array = np.array(weights2)\n",
    "biases2_array = np.array(biases2)\n",
    "weights3_array = np.array(weights3)\n",
    "biases3_array = np.array(biases3)\n",
    "\n",
    "# Calculate the output of the first layer\n",
    "layer1_outputs = np.dot(inputs_array, weights_array.T) + biases_array\n",
    "\n",
    "# Calculate the output of the second layer\n",
    "layer2_outputs = np.dot(layer1_outputs, weights2_array.T) + biases2_array\n",
    "\n",
    "# Calculate the output of the 3rd layer\n",
    "layer3_outputs = np.dot(layer2_outputs, weights3_array.T) + biases3_array\n",
    "\n",
    "\n",
    "print(layer2_outputs)\n",
    "print(layer3_outputs)"
   ]
  }
 ],
 "metadata": {
  "kernelspec": {
   "display_name": "Python 3",
   "language": "python",
   "name": "python3"
  },
  "language_info": {
   "codemirror_mode": {
    "name": "ipython",
    "version": 3
   },
   "file_extension": ".py",
   "mimetype": "text/x-python",
   "name": "python",
   "nbconvert_exporter": "python",
   "pygments_lexer": "ipython3",
   "version": "3.11.11"
  }
 },
 "nbformat": 4,
 "nbformat_minor": 5
}
